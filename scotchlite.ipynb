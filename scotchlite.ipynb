{
 "cells": [
  {
   "cell_type": "markdown",
   "id": "585d3a7f",
   "metadata": {},
   "source": [
    "##### Попытки понять, как стеклянные шарики отражают свет.\n",
    "Угол между падающим и отраженным лучом:\n",
    "$$\\gamma = 2(2\\beta - \\alpha) = 2(2\\arcsin\\frac{r}{n_2} - \\arcsin\\frac{r}{n_1})$$\n",
    "$n_1$ - показатель преломления среды, **откуда** луч пришел, $n_2$ - соответственно, **куда**.\n",
    "поскольку луч падает из воздуха, $n_1=1$\n",
    "\n",
    "$\\alpha$ - угол падения, $\\beta$ - угол преломления. \n",
    "$$n_1\\sin\\alpha = n_2\\sin\\beta$$\n",
    "\n",
    "![angles](2.png)\n",
    "\n",
    "При достаточно большом коэффициенте преломления и попадании луча ближе к краю шарика угол $\\gamma$ может стать\n",
    "отрицательным, то есть луч отклонится в ту же сторону от середины шарика, в которую попал.\n",
    "Так что имеет смысл брать модуль угла.\n",
    "\n",
    "![negative gamma](3.png)\n",
    "\n",
    "На границе сред луч не только проходит с преломлением в другую среду, но и частично отражается.  \n",
    "Формулы Френеля для амплитуд отраженного и прошедшего луча:\n",
    " * перпендикулярно к плоскости падения поляризованный луч\n",
    "   - отражение $$\\rho_s = \\frac{\\sin^2(\\alpha - \\beta)}{\\sin^2(\\alpha + \\beta)}$$\n",
    "   - прохождение $$\\tau_s = \\frac{\\sin^2\\alpha +\\sin(\\alpha - \\beta)}{\\sin^2(\\alpha + \\beta)}$$\n",
    " * параллельно к плоскости падения поляризованный луч\n",
    "   - отражение $$\\DeclareMathOperator{\\tg}{tg} \\rho_p = \\frac{\\tg^2(\\alpha - \\beta)}{\\tg^2(\\alpha + \\beta)}$$\n",
    "   - прохождение $$\\tau_p = \\frac{\\sin^2\\alpha +\\sin(\\alpha - \\beta)}\n",
    "                                 {\\sin^2(\\alpha + \\beta)\\cos^2(\\alpha - \\beta)}$$\n",
    "               \n",
    "При прохождении луча из стекла в воздух $\\beta \\gt \\alpha$,\n",
    "когда $\\beta \\ge \\frac{\\pi}{2}\\ (90^\\circ)$ отражение становится полным, но в случае шарика это недостижимо - под каким углом\n",
    "зашел, под таким и выйдет, а войти под 90$^\\circ$ не получится.\n",
    "\n",
    "При $\\alpha = \\beta = 0$\n",
    "$$\\rho = \\left(\\frac{n_2 - n_1}{n_2 + n_1}\\right)^2$$\n",
    "\n",
    "$$\\tau = \\frac{4 n_2 n_1}{(n_2 + n_1)^2}$$\n",
    "\n",
    "Формулы Френеля взял с [https://de.ifmo.ru/bk_netra/start.php?bn=201](https://de.ifmo.ru/bk_netra/start.php?bn=201),\n",
    "надеюсь ничего не напутал."
   ]
  },
  {
   "cell_type": "code",
   "execution_count": 1,
   "id": "104a1034",
   "metadata": {},
   "outputs": [],
   "source": [
    "import numpy as np\n",
    "import matplotlib.pyplot as plt"
   ]
  },
  {
   "cell_type": "code",
   "execution_count": 2,
   "id": "6c0ebcea",
   "metadata": {},
   "outputs": [],
   "source": [
    "n1 = 1\n",
    "n2 = 1.6\n",
    "r = np.linspace(0, 1, 101)"
   ]
  },
  {
   "cell_type": "code",
   "execution_count": 6,
   "id": "8fda1183",
   "metadata": {},
   "outputs": [
    {
     "name": "stderr",
     "output_type": "stream",
     "text": [
      "/tmp/ipykernel_106955/482703576.py:19: RuntimeWarning: invalid value encountered in divide\n",
      "  (np.sin(alpha)**2 + np.sin(alpha - beta)) / np.sin(alpha + beta)**2\n",
      "/tmp/ipykernel_106955/482703576.py:24: RuntimeWarning: invalid value encountered in divide\n",
      "  (np.sin(alpha)**2 + np.sin(alpha - beta)) / (np.sin(alpha + beta)**2 * np.cos(alpha - beta)**2)\n",
      "/tmp/ipykernel_106955/482703576.py:9: RuntimeWarning: invalid value encountered in divide\n",
      "  np.sin(alpha - beta)**2 / np.sin(alpha + beta)**2\n",
      "/tmp/ipykernel_106955/482703576.py:14: RuntimeWarning: invalid value encountered in divide\n",
      "  np.tan(alpha - beta)**2 / np.tan(alpha + beta)**2\n"
     ]
    }
   ],
   "source": [
    "I = 1  # начальная интенсивность луча\n",
    "\n",
    "alpha = np.arcsin(r)\n",
    "beta = np.arcsin(r*n1/n2)\n",
    "gamma = np.abs(2*(2*beta - alpha))\n",
    "\n",
    "def rho_s(alpha, beta):\n",
    "    return np.where(alpha == 0, ((n2 - n1)/(n2 + n1))**2,\n",
    "                    np.sin(alpha - beta)**2 / np.sin(alpha + beta)**2\n",
    "                   )\n",
    "\n",
    "def rho_p(alpha, beta):\n",
    "    return np.where(alpha == 0, ((n2 - n1)/(n2 + n1))**2,\n",
    "                    np.tan(alpha - beta)**2 / np.tan(alpha + beta)**2\n",
    "                   )\n",
    "\n",
    "def tau_s(alpha, beta):\n",
    "    return np.where(alpha == 0, 4*n2*n1 / (n2 + n1)**2,\n",
    "                    (np.sin(alpha)**2 + np.sin(alpha - beta)) / np.sin(alpha + beta)**2\n",
    "                   )\n",
    "\n",
    "def tau_p(alpha, beta):\n",
    "    return np.where(alpha == 0, 4*n2*n1 / (n2 + n1)**2,\n",
    "                    (np.sin(alpha)**2 + np.sin(alpha - beta)) / (np.sin(alpha + beta)**2 * np.cos(alpha - beta)**2)\n",
    "                   )\n",
    "\n",
    "# Луч входит в шарик.  Нас интересует прошедший внутрь. Компоненты с разной поляризацией считаем отдельно.\n",
    "Is = 1/2 * I * tau_s(alpha, beta)\n",
    "Ip = 1/2 * I * tau_p(alpha, beta)\n",
    "\n",
    "# Внутреннее отражение.  Интересует энергия _отраженного_ луча\n",
    "Is = Is * rho_s(alpha, beta)\n",
    "Ip = Ip * rho_p(alpha, beta)\n",
    "\n",
    "# Выход наружу, альфа и бета меняются местами.\n",
    "Is = Is * tau_s(beta, alpha)\n",
    "Ip = Ip * tau_p(beta, alpha)\n",
    "\n",
    "# Сложили компоненты с разной поляризацией в окончательную интенсивность луча.\n",
    "I = Is + Ip\n"
   ]
  },
  {
   "cell_type": "code",
   "execution_count": 8,
   "id": "507c85d0",
   "metadata": {},
   "outputs": [
    {
     "name": "stderr",
     "output_type": "stream",
     "text": [
      "/tmp/ipykernel_106955/482703576.py:19: RuntimeWarning: invalid value encountered in divide\n",
      "  (np.sin(alpha)**2 + np.sin(alpha - beta)) / np.sin(alpha + beta)**2\n"
     ]
    },
    {
     "data": {
      "text/plain": [
       "array([ 0.94674556, 14.5812368 ,  7.48204823,  5.1166362 ,  3.93470559,\n",
       "        3.22619802,  2.75442794,  2.4179592 ,  2.1660742 ,  1.97059696,\n",
       "        1.81462234,  1.68739292,  1.58173752,  1.49269185,  1.41671041,\n",
       "        1.35119353,  1.29419185,  1.24421508,  1.20010447,  1.1609456 ,\n",
       "        1.12600734,  1.09469819,  1.0665346 ,  1.04111751,  1.01811477,\n",
       "        0.99724777,  0.97828121,  0.96101506,  0.94527828,  0.93092389,\n",
       "        0.91782496,  0.9058714 ,  0.89496736,  0.88502911,  0.87598328,\n",
       "        0.86776542,  0.86031877,  0.8535933 ,  0.8475448 ,  0.84213423,\n",
       "        0.83732708,  0.83309289,  0.82940475,  0.82623902,  0.82357495,\n",
       "        0.82139442,  0.81968172,  0.81842338,  0.81760794,  0.81722588,\n",
       "        0.81726945,  0.81773262,  0.81861096,  0.81990162,  0.82160325,\n",
       "        0.82371601,  0.82624153,  0.82918291,  0.83254477,  0.83633322,\n",
       "        0.84055597,  0.84522234,  0.85034337,  0.85593189,  0.86200266,\n",
       "        0.8685725 ,  0.87566046,  0.88328801,  0.89147925,  0.90026122,\n",
       "        0.90966418,  0.91972202,  0.93047262,  0.94195847,  0.95422716,\n",
       "        0.96733221,  0.98133386,  0.99630014,  1.01230812,  1.02944545,\n",
       "        1.04781222,  1.06752329,  1.08871122,  1.11152993,  1.13615939,\n",
       "        1.16281176,  1.19173936,  1.22324544,  1.25769878,  1.29555414,\n",
       "        1.33738146,  1.38390889,  1.43608869,  1.4952023 ,  1.56303771,\n",
       "        1.64220988,  1.73679597,  1.85376882,  2.00694414,  2.23258917,\n",
       "        2.92205087])"
      ]
     },
     "execution_count": 8,
     "metadata": {},
     "output_type": "execute_result"
    }
   ],
   "source": [
    "tau_s(alpha, beta)"
   ]
  },
  {
   "cell_type": "code",
   "execution_count": 25,
   "id": "77f3e40e",
   "metadata": {},
   "outputs": [
    {
     "data": {
      "text/plain": [
       "array([ 0.        ,  0.00505033,  0.0100996 ,  0.01514677,  0.02019076,\n",
       "        0.02523051,  0.03026496,  0.03529302,  0.04031361,  0.04532563,\n",
       "        0.05032797,  0.0553195 ,  0.06029908,  0.06526555,  0.07021773,\n",
       "        0.07515442,  0.0800744 ,  0.08497641,  0.08985918,  0.0947214 ,\n",
       "        0.09956173,  0.10437879,  0.10917118,  0.11393743,  0.11867606,\n",
       "        0.12338552,  0.12806422,  0.13271053,  0.13732274,  0.14189909,\n",
       "        0.14643778,  0.1509369 ,  0.1553945 ,  0.15980855,  0.16417693,\n",
       "        0.16849742,  0.17276774,  0.1769855 ,  0.18114817,  0.18525316,\n",
       "        0.18929772,  0.193279  ,  0.19719398,  0.20103952,  0.20481231,\n",
       "        0.20850887,  0.21212555,  0.2156585 ,  0.21910363,  0.22245668,\n",
       "        0.22571311,  0.22886811,  0.23191662,  0.23485326,  0.2376723 ,\n",
       "        0.24036768,  0.24293293,  0.24536116,  0.24764504,  0.2497767 ,\n",
       "        0.25174774,  0.25354916,  0.2551713 ,  0.25660374,  0.2578353 ,\n",
       "        0.25885388,  0.25964641,  0.26019874,  0.26049547,  0.26051986,\n",
       "        0.26025364,  0.25967682,  0.25876746,  0.25750143,  0.25585206,\n",
       "        0.25378984,  0.25128192,  0.24829164,  0.24477787,  0.24069427,\n",
       "        0.23598832,  0.23060018,  0.2244612 ,  0.21749207,  0.20960042,\n",
       "        0.20067768,  0.19059492,  0.17919719,  0.16629573,  0.1516568 ,\n",
       "        0.13498545,  0.11590073,  0.09389645,  0.06827543,  0.0380314 ,\n",
       "        0.00161642, -0.04358045, -0.10265891, -0.18880448, -0.44106652])"
      ]
     },
     "execution_count": 25,
     "metadata": {},
     "output_type": "execute_result"
    }
   ],
   "source": [
    "fig, ax = plt.subplots(figsize=(12, 12), subplot_kw=dict(projection='polar'))\n"
   ]
  }
 ],
 "metadata": {
  "kernelspec": {
   "display_name": "Python 3 (ipykernel)",
   "language": "python",
   "name": "python3"
  },
  "language_info": {
   "codemirror_mode": {
    "name": "ipython",
    "version": 3
   },
   "file_extension": ".py",
   "mimetype": "text/x-python",
   "name": "python",
   "nbconvert_exporter": "python",
   "pygments_lexer": "ipython3",
   "version": "3.10.8"
  }
 },
 "nbformat": 4,
 "nbformat_minor": 5
}
