{
 "cells": [
  {
   "cell_type": "markdown",
   "id": "585d3a7f",
   "metadata": {},
   "source": [
    "##### Попытки понять, как стеклянные шарики отражают свет.\n",
    "Угол между падающим и отраженным лучом:\n",
    "$$\\gamma = 2(2\\beta - \\alpha) = 2(2\\arcsin\\frac{r}{n_2} - \\arcsin\\frac{r}{n_1})$$\n",
    "$n_1$ - показатель преломления среды, **откуда** луч пришел, $n_2$ - соответственно, **куда**.\n",
    "поскольку луч падает из воздуха, $n_1=1$\n",
    "\n",
    "$\\alpha$ - угол падения, $\\beta$ - угол преломления. \n",
    "$$n_1\\sin\\alpha = n_2\\sin\\beta$$\n",
    "\n",
    "При достаточно большом коэффициенте преломления и попадании луча ближе к краю шарика угол $\\gamma$ может стать\n",
    "отрицательным, то есть луч отклонится в ту же сторону от середины шарика, в которую попал.\n",
    "Так что имеет смысл брать модуль угла.\n",
    "\n",
    "На границе сред луч не только проходит с преломлением в другую среду, но и частично отражается.  \n",
    "Формулы Френеля для амплитуд отраженного и прошедшего луча:\n",
    " * перпендикулярно к плоскости падения поляризованный луч\n",
    "   - отражение $$R_s = \\frac{n_1\\cos\\alpha - n_2\\cos\\beta}{n_1\\cos\\alpha + n_2\\cos\\beta} = \n",
    "               \\frac{\\sin(\\alpha - \\beta)}{\\sin(\\alpha + \\beta)}$$\n",
    "   - прохождение $$T_s = \\frac{2n_1\\cos\\alpha}{n_1\\cos\\alpha + n_2\\cos\\beta} =\n",
    "               \\frac{2\\sin\\beta\\cos\\alpha}{\\sin(\\alpha + \\beta)}$$\n",
    " * параллельно к плоскости падения поляризованный луч\n",
    "   - отражение $$\\DeclareMathOperator{\\tg}{tg} R_p = \\frac{n_2\\cos\\alpha - n_1\\cos\\beta}{n_2\\cos\\alpha + n_1\\cos\\beta} =\n",
    "               \\frac{\\tg(\\alpha - \\beta)}{\\tg(\\alpha + \\beta)}$$\n",
    "   - прохождение $$T_s = \\frac{2n_1\\cos\\alpha}{n_2\\cos\\alpha + n_1\\cos\\beta} =\n",
    "               \\frac{2\\sin\\beta\\cos\\alpha}{\\sin(\\alpha + \\beta)\\cos(\\alpha - \\beta)}$$\n",
    "               \n",
    "При прохождении луча из стекла в воздух $\\beta \\gt \\alpha$,\n",
    "когда $\\beta \\ge \\frac{\\pi}{2}\\ (90^\\circ)$ отражение становится полным, но в случае шарика это недостижимо - под каким углом\n",
    "зашел, под таким и выйдет, а войти под 90$^\\circ$ не получится.\n",
    "Немного не врубился, почему при внутреннем отражении коэффициенты становятся отрицательными.  Возможно, просто показана\n",
    "смена фазы на противоположную, нас это пока не интересует, считаем просто амплитуду.\n",
    "\n",
    "При $\\alpha = \\beta = 0$\n",
    "$$R = \\frac{n_2 - n_1}{n_2 + n_1}$$\n",
    "\n",
    "$$T = \\frac{2\\cdot\\sqrt{n_2 n_1}}{n_2 + n_1}$$\n",
    "\n",
    "Формулы Френеля взял с [https://de.ifmo.ru/bk_netra/start.php?bn=201](https://de.ifmo.ru/bk_netra/start.php?bn=201),\n",
    "надеюсь ничего не напутал."
   ]
  },
  {
   "cell_type": "code",
   "execution_count": 1,
   "id": "104a1034",
   "metadata": {},
   "outputs": [],
   "source": [
    "import numpy as np\n",
    "import matplotlib.pyplot as plt"
   ]
  },
  {
   "cell_type": "code",
   "execution_count": 20,
   "id": "6c0ebcea",
   "metadata": {},
   "outputs": [],
   "source": [
    "n1 = 1\n",
    "n2 = 1.6\n",
    "A = 1  # начальная амплитуда луча\n",
    "r = np.linspace(0, 1, 101)"
   ]
  },
  {
   "cell_type": "code",
   "execution_count": 21,
   "id": "8fda1183",
   "metadata": {},
   "outputs": [
    {
     "name": "stderr",
     "output_type": "stream",
     "text": [
      "<ipython-input-21-7375dc3337b0>:6: RuntimeWarning: invalid value encountered in true_divide\n",
      "  As = 1/2 * A * (2 * np.sin(beta) * np.cos(alpha))/np.sin(alpha + beta)\n",
      "<ipython-input-21-7375dc3337b0>:7: RuntimeWarning: invalid value encountered in true_divide\n",
      "  Ap = 1/2 * A * (2 * np.sin(beta) * np.cos(alpha))/(np.sin(alpha + beta) * np.cos(alpha - beta))\n"
     ]
    }
   ],
   "source": [
    "alpha = np.arcsin(r)\n",
    "beta = np.arcsin(r*n1/n2)\n",
    "g = np.abs(2*(2*beta - alpha))\n",
    "\n",
    "# Луч входит в шарик.  Нас интересует прошедший внутрь. Компоненты с разной поляризацией считаем отдельно.\n",
    "As = 1/2 * A * (2 * np.sin(beta) * np.cos(alpha))/np.sin(alpha + beta)\n",
    "Ap = 1/2 * A * (2 * np.sin(beta) * np.cos(alpha))/(np.sin(alpha + beta) * np.cos(alpha - beta))\n",
    "\n",
    "# Внутреннее отражение\n",
    "As = As * np.sin(alpha - beta)/np.sin(alpha + beta)\n",
    "Ap = Ap * np.tan(alpha - beta)/np.tan(alpha + beta)\n",
    "\n",
    "# Выход наружу, альфа и бета меняются местами кроме как в суммах и в разности под косинусом - он все равно четный.\n",
    "As = As * (2 * np.sin(alpha) * np.cos(beta))/np.sin(alpha + beta)\n",
    "Ap = As * (2 * np.sin(alpha) * np.cos(beta))/(np.sin(alpha + beta) * np.cos(alpha - beta))\n",
    "\n",
    "# Сложили компоненты с разной поляризацией в окончательную амплитуду\n",
    "A = As + Ap\n",
    "\n",
    "# Нулевой угол - особый случай\n",
    "#A[0] = (n2 - n1)/(n2 + n1) + (2*np.sqrt(n2*n1)/(n2 + n1))**2"
   ]
  },
  {
   "cell_type": "code",
   "execution_count": 24,
   "id": "507c85d0",
   "metadata": {},
   "outputs": [
    {
     "data": {
      "text/plain": [
       "array([False,  True,  True,  True,  True,  True,  True,  True,  True,\n",
       "        True,  True,  True,  True,  True,  True,  True,  True,  True,\n",
       "        True,  True,  True,  True,  True,  True,  True,  True,  True,\n",
       "        True,  True,  True,  True,  True,  True, False, False, False,\n",
       "       False, False, False, False, False, False, False, False, False,\n",
       "       False, False, False, False, False, False, False, False, False,\n",
       "       False, False, False, False, False, False, False, False, False,\n",
       "       False, False, False, False, False, False, False, False, False,\n",
       "       False, False, False, False, False, False, False, False, False,\n",
       "       False, False, False, False, False, False, False, False, False,\n",
       "        True,  True,  True,  True,  True,  True,  True,  True,  True,\n",
       "       False, False])"
      ]
     },
     "execution_count": 24,
     "metadata": {},
     "output_type": "execute_result"
    }
   ],
   "source": [
    "(g>0) & (g<np.pi/20)"
   ]
  },
  {
   "cell_type": "code",
   "execution_count": 25,
   "id": "77f3e40e",
   "metadata": {},
   "outputs": [
    {
     "data": {
      "text/plain": [
       "array([ 0.        ,  0.00505033,  0.0100996 ,  0.01514677,  0.02019076,\n",
       "        0.02523051,  0.03026496,  0.03529302,  0.04031361,  0.04532563,\n",
       "        0.05032797,  0.0553195 ,  0.06029908,  0.06526555,  0.07021773,\n",
       "        0.07515442,  0.0800744 ,  0.08497641,  0.08985918,  0.0947214 ,\n",
       "        0.09956173,  0.10437879,  0.10917118,  0.11393743,  0.11867606,\n",
       "        0.12338552,  0.12806422,  0.13271053,  0.13732274,  0.14189909,\n",
       "        0.14643778,  0.1509369 ,  0.1553945 ,  0.15980855,  0.16417693,\n",
       "        0.16849742,  0.17276774,  0.1769855 ,  0.18114817,  0.18525316,\n",
       "        0.18929772,  0.193279  ,  0.19719398,  0.20103952,  0.20481231,\n",
       "        0.20850887,  0.21212555,  0.2156585 ,  0.21910363,  0.22245668,\n",
       "        0.22571311,  0.22886811,  0.23191662,  0.23485326,  0.2376723 ,\n",
       "        0.24036768,  0.24293293,  0.24536116,  0.24764504,  0.2497767 ,\n",
       "        0.25174774,  0.25354916,  0.2551713 ,  0.25660374,  0.2578353 ,\n",
       "        0.25885388,  0.25964641,  0.26019874,  0.26049547,  0.26051986,\n",
       "        0.26025364,  0.25967682,  0.25876746,  0.25750143,  0.25585206,\n",
       "        0.25378984,  0.25128192,  0.24829164,  0.24477787,  0.24069427,\n",
       "        0.23598832,  0.23060018,  0.2244612 ,  0.21749207,  0.20960042,\n",
       "        0.20067768,  0.19059492,  0.17919719,  0.16629573,  0.1516568 ,\n",
       "        0.13498545,  0.11590073,  0.09389645,  0.06827543,  0.0380314 ,\n",
       "        0.00161642, -0.04358045, -0.10265891, -0.18880448, -0.44106652])"
      ]
     },
     "execution_count": 25,
     "metadata": {},
     "output_type": "execute_result"
    }
   ],
   "source": [
    "fig, ax = plt.subplots(figsize=(12, 12), subplot_kw=dict(projection='polar'))\n"
   ]
  }
 ],
 "metadata": {
  "kernelspec": {
   "display_name": "Python 3",
   "language": "python",
   "name": "python3"
  },
  "language_info": {
   "codemirror_mode": {
    "name": "ipython",
    "version": 3
   },
   "file_extension": ".py",
   "mimetype": "text/x-python",
   "name": "python",
   "nbconvert_exporter": "python",
   "pygments_lexer": "ipython3",
   "version": "3.8.8"
  }
 },
 "nbformat": 4,
 "nbformat_minor": 5
}
